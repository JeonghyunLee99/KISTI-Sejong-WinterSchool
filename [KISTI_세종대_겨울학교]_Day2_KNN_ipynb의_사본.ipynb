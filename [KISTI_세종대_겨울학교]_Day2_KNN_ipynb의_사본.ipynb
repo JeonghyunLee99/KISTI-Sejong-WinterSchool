{
  "nbformat": 4,
  "nbformat_minor": 0,
  "metadata": {
    "colab": {
      "name": "[KISTI-세종대-겨울학교] Day2-KNN.ipynb의 사본",
      "provenance": [],
      "collapsed_sections": [],
      "include_colab_link": true
    },
    "kernelspec": {
      "name": "python3",
      "display_name": "Python 3"
    }
  },
  "cells": [
    {
      "cell_type": "markdown",
      "metadata": {
        "id": "view-in-github",
        "colab_type": "text"
      },
      "source": [
        "<a href=\"https://colab.research.google.com/github/JeonghyunLee99/KISTI-Sejong-WinterSchool/blob/main/%5BKISTI_%EC%84%B8%EC%A2%85%EB%8C%80_%EA%B2%A8%EC%9A%B8%ED%95%99%EA%B5%90%5D_Day2_KNN_ipynb%EC%9D%98_%EC%82%AC%EB%B3%B8.ipynb\" target=\"_parent\"><img src=\"https://colab.research.google.com/assets/colab-badge.svg\" alt=\"Open In Colab\"/></a>"
      ]
    },
    {
      "cell_type": "code",
      "metadata": {
        "id": "bojzG6MX_U3g"
      },
      "source": [
        "from sklearn.datasets import fetch_openml\n",
        "X, y = fetch_openml('mnist_784', version=1, return_X_y=True)"
      ],
      "execution_count": 1,
      "outputs": []
    },
    {
      "cell_type": "code",
      "metadata": {
        "id": "INBgMVYx_vwc"
      },
      "source": [
        "from sklearn.model_selection import train_test_split\n",
        "X_train, X_test, y_train, y_test = train_test_split(X, y, test_size=0.2, random_state = 1, stratify = y)"
      ],
      "execution_count": 2,
      "outputs": []
    },
    {
      "cell_type": "code",
      "metadata": {
        "id": "dDCuI77NAsNX"
      },
      "source": [
        "from sklearn.preprocessing import StandardScaler\n",
        "scaler = StandardScaler()\n",
        "X_train = scaler.fit_transform(X_train)\n",
        "X_test = scaler.transform(X_test)"
      ],
      "execution_count": 3,
      "outputs": []
    },
    {
      "cell_type": "code",
      "metadata": {
        "id": "2AoTo4ZkLRv2"
      },
      "source": [
        "from sklearn import neighbors\n",
        "\n",
        "# [Default] K = 5, weight = uniform, K 값을 바꿔가면서 최적의 결과를 찾아가면 됨, 이 예제에서는 기본적으로 K 값을 5로 지정\n",
        "clf_knn = neighbors.KNeighborsClassifier()\n",
        "clf_knn.fit(X_train, y_train)\n",
        "\n",
        "# Train score: 0.9627\n",
        "score = clf_knn.score(X_train, y_train)\n",
        "print(\"Train score: %.4f\" % score)"
      ],
      "execution_count": null,
      "outputs": []
    },
    {
      "cell_type": "code",
      "metadata": {
        "id": "Z4I8R_-GKqKf"
      },
      "source": [
        "# Test score: 0.9466\n",
        "score = clf_knn.score(X_test, y_test)\n",
        "print(\"Test score: %.4f\" % score)"
      ],
      "execution_count": null,
      "outputs": []
    }
  ]
}